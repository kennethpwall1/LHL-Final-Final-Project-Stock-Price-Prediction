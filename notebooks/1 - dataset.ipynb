{
 "cells": [
  {
   "cell_type": "code",
   "execution_count": 1,
   "metadata": {},
   "outputs": [],
   "source": [
    "import pandas as pd\n",
    "import numpy as np\n",
    "from functions_variables import *"
   ]
  },
  {
   "cell_type": "markdown",
   "metadata": {},
   "source": [
    "# COMMODITIES"
   ]
  },
  {
   "cell_type": "code",
   "execution_count": null,
   "metadata": {},
   "outputs": [],
   "source": [
    "oil_df = create_feature_dataframe('../data/raw/commodity/Crude Oil WTI Futures create_feature_dataframe Data.csv', 'WTI Price')\n",
    "ng_df = create_feature_dataframe('../data/raw/commodity/Natural Gas Futures Historical Data.csv', 'Natural Gas Price')\n",
    "al_df = create_feature_dataframe('../data/raw/commodity/Aluminium Historical Data.csv', 'Aluminum Price')\n",
    "copper_df = create_feature_dataframe('../data/raw/commodity/Copper Futures Historical Data.csv', 'Copper Price')\n",
    "gold_df = create_feature_dataframe('../data/raw/commodity/Gold Futures Historical Data.csv', 'Gold Price')\n",
    "plat_df = create_feature_dataframe('../data/raw/commodity/Platinum Futures Historical Data.csv', 'Platinum Price')\n",
    "silver_df = create_feature_dataframe('../data/raw/commodity/Silver Futures Historical Data.csv', 'Silver Price')\n",
    "lumber_df = create_feature_dataframe('../data/raw/commodity/Lumber Futures Historical Data.csv', 'Lumber Price')\n"
   ]
  },
  {
   "cell_type": "code",
   "execution_count": null,
   "metadata": {},
   "outputs": [],
   "source": [
    "commodity_df = oil_df.merge(ng_df, on='Date', how='outer')\\\n",
    "                    .merge(al_df, on='Date', how='outer')\\\n",
    "                    .merge(copper_df, on='Date', how='outer')\\\n",
    "                    .merge(gold_df, on='Date', how='outer')\\\n",
    "                    .merge(plat_df, on='Date', how='outer')\\\n",
    "                    .merge(silver_df, on='Date', how='outer')\\\n",
    "                    .merge(lumber_df, on='Date', how='outer')"
   ]
  },
  {
   "cell_type": "code",
   "execution_count": null,
   "metadata": {},
   "outputs": [],
   "source": [
    "commodity_df.info()"
   ]
  },
  {
   "cell_type": "code",
   "execution_count": null,
   "metadata": {},
   "outputs": [],
   "source": [
    "commodity_df.isnull().sum()"
   ]
  },
  {
   "cell_type": "code",
   "execution_count": null,
   "metadata": {},
   "outputs": [],
   "source": [
    "# Fill missing values\n",
    "commodity_df.ffill(inplace=True)"
   ]
  },
  {
   "cell_type": "code",
   "execution_count": null,
   "metadata": {},
   "outputs": [],
   "source": [
    "commodity_df.isnull().sum()"
   ]
  },
  {
   "cell_type": "code",
   "execution_count": null,
   "metadata": {},
   "outputs": [],
   "source": [
    "commodity_df.bfill(inplace=True)"
   ]
  },
  {
   "cell_type": "code",
   "execution_count": null,
   "metadata": {},
   "outputs": [
    {
     "data": {
      "text/plain": [
       "Date                 0\n",
       "WTI Price            0\n",
       "Natural Gas Price    0\n",
       "Aluminum Price       0\n",
       "Copper Price         0\n",
       "Gold Price           0\n",
       "Platinum Price       0\n",
       "Silver Price         0\n",
       "Lumber Price         0\n",
       "dtype: int64"
      ]
     },
     "execution_count": 9,
     "metadata": {},
     "output_type": "execute_result"
    }
   ],
   "source": [
    "commodity_df.isnull().sum()"
   ]
  },
  {
   "cell_type": "code",
   "execution_count": null,
   "metadata": {},
   "outputs": [
    {
     "name": "stdout",
     "output_type": "stream",
     "text": [
      "<class 'pandas.core.frame.DataFrame'>\n",
      "RangeIndex: 3194 entries, 0 to 3193\n",
      "Data columns (total 9 columns):\n",
      " #   Column             Non-Null Count  Dtype  \n",
      "---  ------             --------------  -----  \n",
      " 0   Date               3194 non-null   object \n",
      " 1   WTI Price          3194 non-null   float64\n",
      " 2   Natural Gas Price  3194 non-null   float64\n",
      " 3   Aluminum Price     3194 non-null   object \n",
      " 4   Copper Price       3194 non-null   float64\n",
      " 5   Gold Price         3194 non-null   object \n",
      " 6   Platinum Price     3194 non-null   object \n",
      " 7   Silver Price       3194 non-null   float64\n",
      " 8   Lumber Price       3194 non-null   object \n",
      "dtypes: float64(4), object(5)\n",
      "memory usage: 224.7+ KB\n"
     ]
    }
   ],
   "source": [
    "commodity_df.info()"
   ]
  },
  {
   "cell_type": "code",
   "execution_count": null,
   "metadata": {},
   "outputs": [],
   "source": [
    "def currency_to_float(currency):\n",
    "    return float(currency.replace(',', ''))"
   ]
  },
  {
   "cell_type": "code",
   "execution_count": null,
   "metadata": {},
   "outputs": [],
   "source": [
    "columns_to_convert = ['Aluminum Price', 'Gold Price', 'Platinum Price', 'Lumber Price']\n",
    "commodity_df[columns_to_convert] = commodity_df[columns_to_convert].map(currency_to_float)"
   ]
  },
  {
   "cell_type": "code",
   "execution_count": null,
   "metadata": {},
   "outputs": [
    {
     "name": "stdout",
     "output_type": "stream",
     "text": [
      "<class 'pandas.core.frame.DataFrame'>\n",
      "RangeIndex: 3194 entries, 0 to 3193\n",
      "Data columns (total 9 columns):\n",
      " #   Column             Non-Null Count  Dtype  \n",
      "---  ------             --------------  -----  \n",
      " 0   Date               3194 non-null   object \n",
      " 1   WTI Price          3194 non-null   float64\n",
      " 2   Natural Gas Price  3194 non-null   float64\n",
      " 3   Aluminum Price     3194 non-null   float64\n",
      " 4   Copper Price       3194 non-null   float64\n",
      " 5   Gold Price         3194 non-null   float64\n",
      " 6   Platinum Price     3194 non-null   float64\n",
      " 7   Silver Price       3194 non-null   float64\n",
      " 8   Lumber Price       3194 non-null   float64\n",
      "dtypes: float64(8), object(1)\n",
      "memory usage: 224.7+ KB\n"
     ]
    }
   ],
   "source": [
    "commodity_df.info()"
   ]
  },
  {
   "cell_type": "code",
   "execution_count": null,
   "metadata": {},
   "outputs": [],
   "source": [
    "commodity_df.to_csv('../data/combined/commodity_prices_2014_2023.csv', index=False)"
   ]
  },
  {
   "cell_type": "markdown",
   "metadata": {},
   "source": [
    "# CURRENCY"
   ]
  },
  {
   "cell_type": "code",
   "execution_count": null,
   "metadata": {},
   "outputs": [],
   "source": [
    "CADJPY_df = create_feature_dataframe('../data/raw/currency/CAD_JPY Historical Data.csv', 'CADJPY')\n",
    "CADEUR_df = create_feature_dataframe('../data/raw/currency/EUR_CAD Historical Data.csv', 'EURCAD')\n",
    "CADGBP_df = create_feature_dataframe('../data/raw/currency/GBP_CAD Historical Data.csv', 'GBPCAD')\n",
    "CADUSD_df = create_feature_dataframe('../data/raw/currency/USD_CAD Historical Data.csv', 'USDCAD')"
   ]
  },
  {
   "cell_type": "code",
   "execution_count": null,
   "metadata": {},
   "outputs": [],
   "source": [
    "currency_df = CADJPY_df.merge(CADEUR_df, on='Date', how='outer')\\\n",
    "                    .merge(CADGBP_df, on='Date', how='outer')\\\n",
    "                    .merge(CADUSD_df, on='Date', how='outer')\n"
   ]
  },
  {
   "cell_type": "code",
   "execution_count": null,
   "metadata": {},
   "outputs": [
    {
     "name": "stdout",
     "output_type": "stream",
     "text": [
      "<class 'pandas.core.frame.DataFrame'>\n",
      "RangeIndex: 2649 entries, 0 to 2648\n",
      "Data columns (total 5 columns):\n",
      " #   Column  Non-Null Count  Dtype  \n",
      "---  ------  --------------  -----  \n",
      " 0   Date    2649 non-null   object \n",
      " 1   CADJPY  2648 non-null   float64\n",
      " 2   EURCAD  2648 non-null   float64\n",
      " 3   GBPCAD  2649 non-null   float64\n",
      " 4   USDCAD  2648 non-null   float64\n",
      "dtypes: float64(4), object(1)\n",
      "memory usage: 103.6+ KB\n"
     ]
    }
   ],
   "source": [
    "currency_df.info()"
   ]
  },
  {
   "cell_type": "code",
   "execution_count": null,
   "metadata": {},
   "outputs": [
    {
     "data": {
      "text/plain": [
       "Date      0\n",
       "CADJPY    1\n",
       "EURCAD    1\n",
       "GBPCAD    0\n",
       "USDCAD    1\n",
       "dtype: int64"
      ]
     },
     "execution_count": 19,
     "metadata": {},
     "output_type": "execute_result"
    }
   ],
   "source": [
    "currency_df.isnull().sum()"
   ]
  },
  {
   "cell_type": "code",
   "execution_count": null,
   "metadata": {},
   "outputs": [],
   "source": [
    "currency_df.ffill(inplace=True)"
   ]
  },
  {
   "cell_type": "code",
   "execution_count": null,
   "metadata": {},
   "outputs": [
    {
     "data": {
      "text/plain": [
       "Date      0\n",
       "CADJPY    0\n",
       "EURCAD    0\n",
       "GBPCAD    0\n",
       "USDCAD    0\n",
       "dtype: int64"
      ]
     },
     "execution_count": 22,
     "metadata": {},
     "output_type": "execute_result"
    }
   ],
   "source": [
    "currency_df.isnull().sum()"
   ]
  },
  {
   "cell_type": "code",
   "execution_count": null,
   "metadata": {},
   "outputs": [],
   "source": [
    "currency_df.to_csv('../data/combined/currency_prices_2014_2023.csv', index=False)"
   ]
  },
  {
   "cell_type": "markdown",
   "metadata": {},
   "source": [
    "# INDEX"
   ]
  },
  {
   "cell_type": "code",
   "execution_count": null,
   "metadata": {},
   "outputs": [],
   "source": [
    "dax_df = create_feature_dataframe('../data/raw/index/DAX Historical Data.csv', 'DAX')\n",
    "stoxx_df = create_feature_dataframe('../data/raw/index/Euro Stoxx 50 Historical Data.csv', 'STOXX 50')\n",
    "ftse_df = create_feature_dataframe('../data/raw/index/FTSE 100 Historical Data.csv', 'FTSE 100')\n",
    "nasdaq_df = create_feature_dataframe('../data/raw/index/NASDAQ Composite Historical Data.csv', 'NASDAQ')\n",
    "nikkei_df = create_feature_dataframe('../data/raw/index/Nikkei 225 Historical Data.csv', 'Nikkei 225')\n",
    "russell_df = create_feature_dataframe('../data/raw/index/Russell 2000 Historical Data.csv', 'Russell 2000')\n",
    "sp_df = create_feature_dataframe('../data/raw/index/S&P 500 Historical Data.csv', 'S&P 500')\n",
    "tsx_df = create_feature_dataframe('../data/raw/index/S&P_TSX Composite Historical Data.csv', 'TSX')"
   ]
  },
  {
   "cell_type": "code",
   "execution_count": null,
   "metadata": {},
   "outputs": [],
   "source": [
    "index_df = dax_df.merge(stoxx_df, on='Date', how='outer')\\\n",
    "                    .merge(ftse_df, on='Date', how='outer')\\\n",
    "                    .merge(nasdaq_df, on='Date', how='outer')\\\n",
    "                    .merge(nikkei_df, on='Date', how='outer')\\\n",
    "                    .merge(russell_df, on='Date', how='outer')\\\n",
    "                    .merge(sp_df, on='Date', how='outer')\\\n",
    "                    .merge(tsx_df, on='Date', how='outer')"
   ]
  },
  {
   "cell_type": "code",
   "execution_count": null,
   "metadata": {},
   "outputs": [
    {
     "data": {
      "text/plain": [
       "Date              0\n",
       "DAX              92\n",
       "STOXX 50         63\n",
       "FTSE 100        103\n",
       "NASDAQ          114\n",
       "Nikkei 225      160\n",
       "Russell 2000    100\n",
       "S&P 500         114\n",
       "TSX             121\n",
       "dtype: int64"
      ]
     },
     "execution_count": 26,
     "metadata": {},
     "output_type": "execute_result"
    }
   ],
   "source": [
    "index_df.isnull().sum()"
   ]
  },
  {
   "cell_type": "code",
   "execution_count": null,
   "metadata": {},
   "outputs": [],
   "source": [
    "index_df.ffill(inplace=True)"
   ]
  },
  {
   "cell_type": "code",
   "execution_count": null,
   "metadata": {},
   "outputs": [],
   "source": [
    "index_df.bfill(inplace=True)"
   ]
  },
  {
   "cell_type": "code",
   "execution_count": null,
   "metadata": {},
   "outputs": [
    {
     "data": {
      "text/plain": [
       "Date            0\n",
       "DAX             0\n",
       "STOXX 50        0\n",
       "FTSE 100        0\n",
       "NASDAQ          0\n",
       "Nikkei 225      0\n",
       "Russell 2000    0\n",
       "S&P 500         0\n",
       "TSX             0\n",
       "dtype: int64"
      ]
     },
     "execution_count": 29,
     "metadata": {},
     "output_type": "execute_result"
    }
   ],
   "source": [
    "index_df.isnull().sum()"
   ]
  },
  {
   "cell_type": "code",
   "execution_count": null,
   "metadata": {},
   "outputs": [
    {
     "name": "stdout",
     "output_type": "stream",
     "text": [
      "<class 'pandas.core.frame.DataFrame'>\n",
      "RangeIndex: 2667 entries, 0 to 2666\n",
      "Data columns (total 9 columns):\n",
      " #   Column        Non-Null Count  Dtype \n",
      "---  ------        --------------  ----- \n",
      " 0   Date          2667 non-null   object\n",
      " 1   DAX           2667 non-null   object\n",
      " 2   STOXX 50      2667 non-null   object\n",
      " 3   FTSE 100      2667 non-null   object\n",
      " 4   NASDAQ        2667 non-null   object\n",
      " 5   Nikkei 225    2667 non-null   object\n",
      " 6   Russell 2000  2667 non-null   object\n",
      " 7   S&P 500       2667 non-null   object\n",
      " 8   TSX           2667 non-null   object\n",
      "dtypes: object(9)\n",
      "memory usage: 187.6+ KB\n"
     ]
    }
   ],
   "source": [
    "index_df.info()"
   ]
  },
  {
   "cell_type": "code",
   "execution_count": null,
   "metadata": {},
   "outputs": [],
   "source": [
    "def currency_to_float(currency):\n",
    "    return currency.replace(',', '')"
   ]
  },
  {
   "cell_type": "code",
   "execution_count": null,
   "metadata": {},
   "outputs": [],
   "source": [
    "index_df[index_df.columns.difference(['Date'])] = index_df[index_df.columns.difference(['Date'])].applymap(currency_to_float)"
   ]
  },
  {
   "cell_type": "code",
   "execution_count": null,
   "metadata": {},
   "outputs": [],
   "source": [
    "index_df.to_csv('../data/combined/index_prices_2014_2023.csv', index=False)"
   ]
  },
  {
   "cell_type": "markdown",
   "metadata": {},
   "source": [
    "# ECONOMY"
   ]
  },
  {
   "cell_type": "code",
   "execution_count": null,
   "metadata": {},
   "outputs": [],
   "source": [
    "gdp_df = statscan_transpose('../data/raw/economy/monthly/canada_gdp_jan_2014_feb_2024_formatted.csv')\n",
    "cpi_df = statscan_transpose('../data/raw/economy/monthly/canada_cpi_jan_2014_apr_2024_formatted.csv')\n",
    "hpi_df = statscan_transpose('../data/raw/economy/monthly/canada_new_housing_price_index_jan_2014_apr_2024_formatted.csv')\n",
    "trade_balance_df = statscan_transpose('../data/raw/economy/monthly/canada_trade_balance_jan_2014_mar_2024_formatted.csv')\n",
    "unemployment_rate_df = statscan_transpose('../data/raw/economy/monthly/canada_unemployment_rate_jan_2014_apr_2024_formatted.csv')\n",
    "wholesale_sales_df = statscan_transpose('../data/raw/economy/monthly/canada_wholesale_sales_jan_2014_mar_2024_formatted.csv')\n",
    "\n"
   ]
  },
  {
   "cell_type": "code",
   "execution_count": null,
   "metadata": {},
   "outputs": [],
   "source": [
    "merged_df = gdp_df.merge(cpi_df, on='Date', how='inner')\\\n",
    "                    .merge(hpi_df, on='Date', how='inner')\\\n",
    "                    .merge(trade_balance_df, on='Date', how='inner')\\\n",
    "                    .merge(unemployment_rate_df, on='Date', how='inner')\\\n",
    "                    .merge(wholesale_sales_df, on='Date', how='inner')\n",
    "                    "
   ]
  },
  {
   "cell_type": "code",
   "execution_count": null,
   "metadata": {},
   "outputs": [],
   "source": [
    "def get_feature_name(data):\n",
    "    return data.columns[1]"
   ]
  },
  {
   "cell_type": "code",
   "execution_count": null,
   "metadata": {},
   "outputs": [],
   "source": [
    "economy_df = merged_df[['Date', \n",
    "                        get_feature_name(gdp_df),\n",
    "                        get_feature_name(cpi_df), \n",
    "                        get_feature_name(hpi_df),\n",
    "                        get_feature_name(trade_balance_df),\n",
    "                        get_feature_name(unemployment_rate_df),\n",
    "                        get_feature_name(wholesale_sales_df)\n",
    "                        ]]"
   ]
  },
  {
   "cell_type": "code",
   "execution_count": null,
   "metadata": {},
   "outputs": [],
   "source": [
    "economy_df.rename(columns={'All industries  [T001] 4': 'GDP', \n",
    "                           'All-items': 'CPI', \n",
    "                           'Total (house and land)': 'HPI', \n",
    "                           'All countries': 'Trade Balance',\n",
    "                           'Both sexes 15 years and over': 'Unemployment',\n",
    "                           'Wolsl tr  [41]': 'Wholesale Trade'  \n",
    "                           }, inplace= True)"
   ]
  },
  {
   "cell_type": "code",
   "execution_count": null,
   "metadata": {},
   "outputs": [
    {
     "name": "stdout",
     "output_type": "stream",
     "text": [
      "<class 'pandas.core.frame.DataFrame'>\n",
      "RangeIndex: 122 entries, 0 to 121\n",
      "Data columns (total 7 columns):\n",
      " #   Column           Non-Null Count  Dtype         \n",
      "---  ------           --------------  -----         \n",
      " 0   Date             122 non-null    datetime64[ns]\n",
      " 1   GDP              122 non-null    float64       \n",
      " 2   CPI              122 non-null    float64       \n",
      " 3   HPI              122 non-null    float64       \n",
      " 4   Trade Balance    122 non-null    float64       \n",
      " 5   Unemployment     122 non-null    float64       \n",
      " 6   Wholesale Trade  122 non-null    float64       \n",
      "dtypes: datetime64[ns](1), float64(6)\n",
      "memory usage: 6.8 KB\n"
     ]
    }
   ],
   "source": [
    "economy_df.info()"
   ]
  },
  {
   "cell_type": "code",
   "execution_count": null,
   "metadata": {},
   "outputs": [],
   "source": [
    "us_gdp_df = pd.read_csv('../data/raw/economy/quarterly/united_states_gdp_q1_1947_q1_2024.csv')"
   ]
  },
  {
   "cell_type": "code",
   "execution_count": null,
   "metadata": {},
   "outputs": [],
   "source": [
    "us_gdp_df['DATE'] = pd.to_datetime(us_gdp_df['DATE'])"
   ]
  },
  {
   "cell_type": "code",
   "execution_count": null,
   "metadata": {},
   "outputs": [],
   "source": [
    "start_date = '2013-10-01'\n",
    "end_date = '2024-01-01'\n",
    "mask = (us_gdp_df['DATE'] >= start_date) & (us_gdp_df['DATE'] <= end_date)\n",
    "filtered_df = us_gdp_df[mask]"
   ]
  },
  {
   "cell_type": "code",
   "execution_count": null,
   "metadata": {},
   "outputs": [],
   "source": [
    "filtered_df.loc[:,'US_GDP'] = filtered_df['US_GDP'].astype(float).copy()"
   ]
  },
  {
   "cell_type": "code",
   "execution_count": null,
   "metadata": {},
   "outputs": [],
   "source": [
    "filtered_df.loc[:,'US_GDP'] = filtered_df['US_GDP'] *1000000000"
   ]
  },
  {
   "cell_type": "code",
   "execution_count": null,
   "metadata": {},
   "outputs": [],
   "source": [
    "from datetime import timedelta\n",
    "filtered_df.loc[:,'Date_plus_3months'] = filtered_df['DATE'] + pd.DateOffset(months=3) - timedelta(days=1)"
   ]
  },
  {
   "cell_type": "code",
   "execution_count": null,
   "metadata": {},
   "outputs": [],
   "source": [
    "filtered_df = filtered_df.drop(columns=['DATE'])\n",
    "us_gdp_df = filtered_df.rename(columns={'Date_plus_3months': 'Date'})"
   ]
  },
  {
   "cell_type": "code",
   "execution_count": null,
   "metadata": {},
   "outputs": [
    {
     "name": "stdout",
     "output_type": "stream",
     "text": [
      "<class 'pandas.core.frame.DataFrame'>\n",
      "Index: 42 entries, 267 to 308\n",
      "Data columns (total 2 columns):\n",
      " #   Column  Non-Null Count  Dtype         \n",
      "---  ------  --------------  -----         \n",
      " 0   US_GDP  42 non-null     object        \n",
      " 1   Date    42 non-null     datetime64[ns]\n",
      "dtypes: datetime64[ns](1), object(1)\n",
      "memory usage: 1008.0+ bytes\n"
     ]
    }
   ],
   "source": [
    "us_gdp_df.info()"
   ]
  },
  {
   "cell_type": "code",
   "execution_count": null,
   "metadata": {},
   "outputs": [],
   "source": [
    "housing_starts_df = statscan_transpose('../data/raw/economy/quarterly/canada_housing_starts_q1_2014_q1_2024_formatted.csv')"
   ]
  },
  {
   "cell_type": "code",
   "execution_count": null,
   "metadata": {},
   "outputs": [
    {
     "name": "stdout",
     "output_type": "stream",
     "text": [
      "<class 'pandas.core.frame.DataFrame'>\n",
      "RangeIndex: 41 entries, 1 to 41\n",
      "Data columns (total 19 columns):\n",
      " #   Column                         Non-Null Count  Dtype         \n",
      "---  ------                         --------------  -----         \n",
      " 0   Date                           41 non-null     datetime64[ns]\n",
      " 1   Housing starts                 41 non-null     float64       \n",
      " 2   Single-detached                41 non-null     object        \n",
      " 3   Multiples                      41 non-null     object        \n",
      " 4   Semi-detached                  41 non-null     object        \n",
      " 5   Row                            41 non-null     object        \n",
      " 6   Apartment and other unit type  41 non-null     object        \n",
      " 7   Housing under construction     36 non-null     float64       \n",
      " 8   Single-detached                36 non-null     object        \n",
      " 9   Multiples                      36 non-null     object        \n",
      " 10  Semi-detached                  36 non-null     object        \n",
      " 11  Row                            36 non-null     object        \n",
      " 12  Apartment and other unit type  36 non-null     object        \n",
      " 13  Housing completions            36 non-null     float64       \n",
      " 14  Single-detached                36 non-null     object        \n",
      " 15  Multiples                      36 non-null     object        \n",
      " 16  Semi-detached                  36 non-null     object        \n",
      " 17  Row                            36 non-null     object        \n",
      " 18  Apartment and other unit type  36 non-null     object        \n",
      "dtypes: datetime64[ns](1), float64(3), object(15)\n",
      "memory usage: 6.2+ KB\n"
     ]
    }
   ],
   "source": [
    "housing_starts_df.info()"
   ]
  },
  {
   "cell_type": "code",
   "execution_count": null,
   "metadata": {},
   "outputs": [
    {
     "data": {
      "text/html": [
       "<div>\n",
       "<style scoped>\n",
       "    .dataframe tbody tr th:only-of-type {\n",
       "        vertical-align: middle;\n",
       "    }\n",
       "\n",
       "    .dataframe tbody tr th {\n",
       "        vertical-align: top;\n",
       "    }\n",
       "\n",
       "    .dataframe thead th {\n",
       "        text-align: right;\n",
       "    }\n",
       "</style>\n",
       "<table border=\"1\" class=\"dataframe\">\n",
       "  <thead>\n",
       "    <tr style=\"text-align: right;\">\n",
       "      <th></th>\n",
       "      <th>Housing starts</th>\n",
       "      <th>Single-detached</th>\n",
       "      <th>Multiples</th>\n",
       "      <th>Semi-detached</th>\n",
       "      <th>Row</th>\n",
       "      <th>Apartment and other unit type</th>\n",
       "      <th>Housing under construction</th>\n",
       "      <th>Single-detached</th>\n",
       "      <th>Multiples</th>\n",
       "      <th>Semi-detached</th>\n",
       "      <th>Row</th>\n",
       "      <th>Apartment and other unit type</th>\n",
       "      <th>Housing completions</th>\n",
       "      <th>Single-detached</th>\n",
       "      <th>Multiples</th>\n",
       "      <th>Semi-detached</th>\n",
       "      <th>Row</th>\n",
       "      <th>Apartment and other unit type</th>\n",
       "      <th>Date</th>\n",
       "    </tr>\n",
       "  </thead>\n",
       "  <tbody>\n",
       "    <tr>\n",
       "      <th>1</th>\n",
       "      <td>33923.0</td>\n",
       "      <td>11,217</td>\n",
       "      <td>22,706</td>\n",
       "      <td>2,369</td>\n",
       "      <td>3,556</td>\n",
       "      <td>16,781</td>\n",
       "      <td>201914.0</td>\n",
       "      <td>41,050</td>\n",
       "      <td>160,864</td>\n",
       "      <td>7,911</td>\n",
       "      <td>17,515</td>\n",
       "      <td>135,438</td>\n",
       "      <td>38797.0</td>\n",
       "      <td>16,873</td>\n",
       "      <td>21,924</td>\n",
       "      <td>2,738</td>\n",
       "      <td>3,831</td>\n",
       "      <td>15,355</td>\n",
       "      <td>2014-03-30</td>\n",
       "    </tr>\n",
       "    <tr>\n",
       "      <th>2</th>\n",
       "      <td>53281.0</td>\n",
       "      <td>21,494</td>\n",
       "      <td>31,787</td>\n",
       "      <td>4,018</td>\n",
       "      <td>6,353</td>\n",
       "      <td>21,416</td>\n",
       "      <td>210139.0</td>\n",
       "      <td>45,036</td>\n",
       "      <td>165,103</td>\n",
       "      <td>8,589</td>\n",
       "      <td>18,954</td>\n",
       "      <td>137,560</td>\n",
       "      <td>45014.0</td>\n",
       "      <td>17,491</td>\n",
       "      <td>27,523</td>\n",
       "      <td>3,333</td>\n",
       "      <td>4,951</td>\n",
       "      <td>19,239</td>\n",
       "      <td>2014-06-30</td>\n",
       "    </tr>\n",
       "    <tr>\n",
       "      <th>3</th>\n",
       "      <td>53961.0</td>\n",
       "      <td>23,265</td>\n",
       "      <td>30,696</td>\n",
       "      <td>3,607</td>\n",
       "      <td>5,749</td>\n",
       "      <td>21,340</td>\n",
       "      <td>216471.0</td>\n",
       "      <td>48,765</td>\n",
       "      <td>167,706</td>\n",
       "      <td>8,888</td>\n",
       "      <td>19,496</td>\n",
       "      <td>139,322</td>\n",
       "      <td>47979.0</td>\n",
       "      <td>19,483</td>\n",
       "      <td>28,496</td>\n",
       "      <td>3,295</td>\n",
       "      <td>5,226</td>\n",
       "      <td>19,975</td>\n",
       "      <td>2014-09-30</td>\n",
       "    </tr>\n",
       "    <tr>\n",
       "      <th>4</th>\n",
       "      <td>48164.0</td>\n",
       "      <td>19,539</td>\n",
       "      <td>28,625</td>\n",
       "      <td>3,413</td>\n",
       "      <td>5,790</td>\n",
       "      <td>19,422</td>\n",
       "      <td>214856.0</td>\n",
       "      <td>47,350</td>\n",
       "      <td>167,506</td>\n",
       "      <td>8,456</td>\n",
       "      <td>19,245</td>\n",
       "      <td>139,805</td>\n",
       "      <td>49638.0</td>\n",
       "      <td>20,929</td>\n",
       "      <td>28,709</td>\n",
       "      <td>3,833</td>\n",
       "      <td>6,007</td>\n",
       "      <td>18,869</td>\n",
       "      <td>2014-12-31</td>\n",
       "    </tr>\n",
       "    <tr>\n",
       "      <th>5</th>\n",
       "      <td>35175.0</td>\n",
       "      <td>10,266</td>\n",
       "      <td>24,909</td>\n",
       "      <td>2,102</td>\n",
       "      <td>3,355</td>\n",
       "      <td>19,452</td>\n",
       "      <td>194271.0</td>\n",
       "      <td>39,903</td>\n",
       "      <td>154,368</td>\n",
       "      <td>7,671</td>\n",
       "      <td>17,497</td>\n",
       "      <td>129,200</td>\n",
       "      <td>54824.0</td>\n",
       "      <td>16,970</td>\n",
       "      <td>37,854</td>\n",
       "      <td>2,824</td>\n",
       "      <td>5,020</td>\n",
       "      <td>30,010</td>\n",
       "      <td>2015-03-30</td>\n",
       "    </tr>\n",
       "  </tbody>\n",
       "</table>\n",
       "</div>"
      ],
      "text/plain": [
       "0  Housing starts Single-detached Multiples Semi-detached    Row  \\\n",
       "1         33923.0          11,217    22,706         2,369  3,556   \n",
       "2         53281.0          21,494    31,787         4,018  6,353   \n",
       "3         53961.0          23,265    30,696         3,607  5,749   \n",
       "4         48164.0          19,539    28,625         3,413  5,790   \n",
       "5         35175.0          10,266    24,909         2,102  3,355   \n",
       "\n",
       "0 Apartment and other unit type  Housing under construction Single-detached  \\\n",
       "1                        16,781                    201914.0          41,050   \n",
       "2                        21,416                    210139.0          45,036   \n",
       "3                        21,340                    216471.0          48,765   \n",
       "4                        19,422                    214856.0          47,350   \n",
       "5                        19,452                    194271.0          39,903   \n",
       "\n",
       "0 Multiples Semi-detached     Row Apartment and other unit type  \\\n",
       "1   160,864         7,911  17,515                       135,438   \n",
       "2   165,103         8,589  18,954                       137,560   \n",
       "3   167,706         8,888  19,496                       139,322   \n",
       "4   167,506         8,456  19,245                       139,805   \n",
       "5   154,368         7,671  17,497                       129,200   \n",
       "\n",
       "0  Housing completions Single-detached Multiples Semi-detached    Row  \\\n",
       "1              38797.0          16,873    21,924         2,738  3,831   \n",
       "2              45014.0          17,491    27,523         3,333  4,951   \n",
       "3              47979.0          19,483    28,496         3,295  5,226   \n",
       "4              49638.0          20,929    28,709         3,833  6,007   \n",
       "5              54824.0          16,970    37,854         2,824  5,020   \n",
       "\n",
       "0 Apartment and other unit type       Date  \n",
       "1                        15,355 2014-03-30  \n",
       "2                        19,239 2014-06-30  \n",
       "3                        19,975 2014-09-30  \n",
       "4                        18,869 2014-12-31  \n",
       "5                        30,010 2015-03-30  "
      ]
     },
     "execution_count": 52,
     "metadata": {},
     "output_type": "execute_result"
    }
   ],
   "source": [
    "housing_starts_df.loc[:,'Date_minus_1months'] = housing_starts_df['Date'] + pd.DateOffset(months=-1)\n",
    "housing_starts_df = housing_starts_df.drop(columns=['Date'])\n",
    "housing_starts_df = housing_starts_df.rename(columns={'Date_minus_1months': 'Date'})\n",
    "housing_starts_df.head()"
   ]
  },
  {
   "cell_type": "code",
   "execution_count": null,
   "metadata": {},
   "outputs": [],
   "source": [
    "housing_df = housing_starts_df[['Date', 'Housing starts']]"
   ]
  },
  {
   "cell_type": "code",
   "execution_count": null,
   "metadata": {},
   "outputs": [],
   "source": [
    "int_df = pd.read_csv('../data/raw/economy/daily/boc_interest_rates_10_year_formatted.csv')"
   ]
  },
  {
   "cell_type": "code",
   "execution_count": null,
   "metadata": {},
   "outputs": [],
   "source": [
    "int_df['Date'] = pd.to_datetime(int_df['Date'])\n",
    "int_df.loc[:,'Interest_Rate'] = int_df['Interest_Rate'].astype(float)"
   ]
  },
  {
   "cell_type": "code",
   "execution_count": null,
   "metadata": {},
   "outputs": [
    {
     "name": "stdout",
     "output_type": "stream",
     "text": [
      "<class 'pandas.core.frame.DataFrame'>\n",
      "RangeIndex: 2701 entries, 0 to 2700\n",
      "Data columns (total 2 columns):\n",
      " #   Column         Non-Null Count  Dtype         \n",
      "---  ------         --------------  -----         \n",
      " 0   Date           2701 non-null   datetime64[ns]\n",
      " 1   Interest_Rate  2701 non-null   float64       \n",
      "dtypes: datetime64[ns](1), float64(1)\n",
      "memory usage: 42.3 KB\n"
     ]
    }
   ],
   "source": [
    "int_df.info()"
   ]
  },
  {
   "cell_type": "code",
   "execution_count": null,
   "metadata": {},
   "outputs": [],
   "source": [
    "int_df = int_df.sort_values(by='Date')\n",
    "int_df = int_df.reset_index(drop=True)\n",
    "#int_df.drop(columns=['index'], inplace=True)"
   ]
  },
  {
   "cell_type": "code",
   "execution_count": null,
   "metadata": {},
   "outputs": [],
   "source": [
    "econ_comb = int_df.merge(economy_df, on='Date', how='outer')\\\n",
    "                    .merge(us_gdp_df, on='Date', how='outer')\\\n",
    "                    .merge(housing_df, on='Date', how='outer')\n"
   ]
  },
  {
   "cell_type": "code",
   "execution_count": null,
   "metadata": {},
   "outputs": [],
   "source": [
    "econ_comb_ffill = econ_comb.ffill()"
   ]
  },
  {
   "cell_type": "code",
   "execution_count": null,
   "metadata": {},
   "outputs": [],
   "source": [
    "econ_final = econ_comb_ffill.bfill()"
   ]
  },
  {
   "cell_type": "code",
   "execution_count": null,
   "metadata": {},
   "outputs": [],
   "source": [
    "econ_final.to_csv('../data/combined/economy_data_2014_2023.csv', index=False)"
   ]
  },
  {
   "cell_type": "markdown",
   "metadata": {},
   "source": [
    "# DATA SET"
   ]
  },
  {
   "cell_type": "code",
   "execution_count": 4,
   "metadata": {},
   "outputs": [],
   "source": [
    "commodity_df = pd.read_csv('../data/combined/commodity_prices_2014_2023.csv')\n",
    "econ_df = pd.read_csv('../data/combined/economy_data_2014_2023.csv')\n",
    "index_df = pd.read_csv('../data/combined/index_prices_2014_2023.csv')\n",
    "currency_df = pd.read_csv('../data/combined/currency_prices_2014_2023.csv')\n",
    "bond_df = pd.read_csv('../data/raw/economy/daily/boc_10yr_bond_price.csv')"
   ]
  },
  {
   "cell_type": "code",
   "execution_count": 5,
   "metadata": {},
   "outputs": [
    {
     "name": "stdout",
     "output_type": "stream",
     "text": [
      "<class 'pandas.core.frame.DataFrame'>\n",
      "RangeIndex: 2495 entries, 0 to 2494\n",
      "Data columns (total 2 columns):\n",
      " #   Column  Non-Null Count  Dtype  \n",
      "---  ------  --------------  -----  \n",
      " 0   date    2495 non-null   object \n",
      " 1   price   2495 non-null   float64\n",
      "dtypes: float64(1), object(1)\n",
      "memory usage: 39.1+ KB\n"
     ]
    }
   ],
   "source": [
    "bond_df.info()"
   ]
  },
  {
   "cell_type": "code",
   "execution_count": 6,
   "metadata": {},
   "outputs": [],
   "source": [
    "bond_df = bond_df.rename(columns={'date': 'Date', 'price': '10 YR Bond Yield'})"
   ]
  },
  {
   "cell_type": "code",
   "execution_count": 7,
   "metadata": {},
   "outputs": [
    {
     "name": "stdout",
     "output_type": "stream",
     "text": [
      "<class 'pandas.core.frame.DataFrame'>\n",
      "RangeIndex: 2495 entries, 0 to 2494\n",
      "Data columns (total 2 columns):\n",
      " #   Column            Non-Null Count  Dtype  \n",
      "---  ------            --------------  -----  \n",
      " 0   Date              2495 non-null   object \n",
      " 1   10 YR Bond Yield  2495 non-null   float64\n",
      "dtypes: float64(1), object(1)\n",
      "memory usage: 39.1+ KB\n"
     ]
    }
   ],
   "source": [
    "bond_df.info()"
   ]
  },
  {
   "cell_type": "code",
   "execution_count": 9,
   "metadata": {},
   "outputs": [
    {
     "name": "stdout",
     "output_type": "stream",
     "text": [
      "<class 'pandas.core.frame.DataFrame'>\n",
      "RangeIndex: 3194 entries, 0 to 3193\n",
      "Data columns (total 9 columns):\n",
      " #   Column             Non-Null Count  Dtype  \n",
      "---  ------             --------------  -----  \n",
      " 0   Date               3194 non-null   object \n",
      " 1   WTI Price          3194 non-null   float64\n",
      " 2   Natural Gas Price  3194 non-null   float64\n",
      " 3   Aluminum Price     3194 non-null   float64\n",
      " 4   Copper Price       3194 non-null   float64\n",
      " 5   Gold Price         3194 non-null   float64\n",
      " 6   Platinum Price     3194 non-null   float64\n",
      " 7   Silver Price       3194 non-null   float64\n",
      " 8   Lumber Price       3194 non-null   float64\n",
      "dtypes: float64(8), object(1)\n",
      "memory usage: 224.7+ KB\n"
     ]
    }
   ],
   "source": [
    "commodity_df.info()"
   ]
  },
  {
   "cell_type": "code",
   "execution_count": 10,
   "metadata": {},
   "outputs": [
    {
     "data": {
      "text/html": [
       "<div>\n",
       "<style scoped>\n",
       "    .dataframe tbody tr th:only-of-type {\n",
       "        vertical-align: middle;\n",
       "    }\n",
       "\n",
       "    .dataframe tbody tr th {\n",
       "        vertical-align: top;\n",
       "    }\n",
       "\n",
       "    .dataframe thead th {\n",
       "        text-align: right;\n",
       "    }\n",
       "</style>\n",
       "<table border=\"1\" class=\"dataframe\">\n",
       "  <thead>\n",
       "    <tr style=\"text-align: right;\">\n",
       "      <th></th>\n",
       "      <th>Date</th>\n",
       "      <th>Interest_Rate</th>\n",
       "      <th>GDP</th>\n",
       "      <th>CPI</th>\n",
       "      <th>HPI</th>\n",
       "      <th>Trade Balance</th>\n",
       "      <th>Unemployment</th>\n",
       "      <th>Wholesale Trade</th>\n",
       "      <th>US_GDP</th>\n",
       "      <th>Housing starts</th>\n",
       "    </tr>\n",
       "  </thead>\n",
       "  <tbody>\n",
       "    <tr>\n",
       "      <th>0</th>\n",
       "      <td>2013-12-31</td>\n",
       "      <td>1.0</td>\n",
       "      <td>1863035.0</td>\n",
       "      <td>123.1</td>\n",
       "      <td>94.1</td>\n",
       "      <td>41334.2</td>\n",
       "      <td>7.7</td>\n",
       "      <td>50184932.0</td>\n",
       "      <td>1.719202e+13</td>\n",
       "      <td>33923.0</td>\n",
       "    </tr>\n",
       "    <tr>\n",
       "      <th>1</th>\n",
       "      <td>2014-01-01</td>\n",
       "      <td>1.0</td>\n",
       "      <td>1863035.0</td>\n",
       "      <td>123.1</td>\n",
       "      <td>94.1</td>\n",
       "      <td>41334.2</td>\n",
       "      <td>7.7</td>\n",
       "      <td>50184932.0</td>\n",
       "      <td>1.719202e+13</td>\n",
       "      <td>33923.0</td>\n",
       "    </tr>\n",
       "    <tr>\n",
       "      <th>2</th>\n",
       "      <td>2014-01-02</td>\n",
       "      <td>1.0</td>\n",
       "      <td>1863035.0</td>\n",
       "      <td>123.1</td>\n",
       "      <td>94.1</td>\n",
       "      <td>41334.2</td>\n",
       "      <td>7.7</td>\n",
       "      <td>50184932.0</td>\n",
       "      <td>1.719202e+13</td>\n",
       "      <td>33923.0</td>\n",
       "    </tr>\n",
       "    <tr>\n",
       "      <th>3</th>\n",
       "      <td>2014-01-03</td>\n",
       "      <td>1.0</td>\n",
       "      <td>1863035.0</td>\n",
       "      <td>123.1</td>\n",
       "      <td>94.1</td>\n",
       "      <td>41334.2</td>\n",
       "      <td>7.7</td>\n",
       "      <td>50184932.0</td>\n",
       "      <td>1.719202e+13</td>\n",
       "      <td>33923.0</td>\n",
       "    </tr>\n",
       "    <tr>\n",
       "      <th>4</th>\n",
       "      <td>2014-01-04</td>\n",
       "      <td>1.0</td>\n",
       "      <td>1863035.0</td>\n",
       "      <td>123.1</td>\n",
       "      <td>94.1</td>\n",
       "      <td>41334.2</td>\n",
       "      <td>7.7</td>\n",
       "      <td>50184932.0</td>\n",
       "      <td>1.719202e+13</td>\n",
       "      <td>33923.0</td>\n",
       "    </tr>\n",
       "  </tbody>\n",
       "</table>\n",
       "</div>"
      ],
      "text/plain": [
       "         Date  Interest_Rate        GDP    CPI   HPI  Trade Balance  \\\n",
       "0  2013-12-31            1.0  1863035.0  123.1  94.1        41334.2   \n",
       "1  2014-01-01            1.0  1863035.0  123.1  94.1        41334.2   \n",
       "2  2014-01-02            1.0  1863035.0  123.1  94.1        41334.2   \n",
       "3  2014-01-03            1.0  1863035.0  123.1  94.1        41334.2   \n",
       "4  2014-01-04            1.0  1863035.0  123.1  94.1        41334.2   \n",
       "\n",
       "   Unemployment  Wholesale Trade        US_GDP  Housing starts  \n",
       "0           7.7       50184932.0  1.719202e+13         33923.0  \n",
       "1           7.7       50184932.0  1.719202e+13         33923.0  \n",
       "2           7.7       50184932.0  1.719202e+13         33923.0  \n",
       "3           7.7       50184932.0  1.719202e+13         33923.0  \n",
       "4           7.7       50184932.0  1.719202e+13         33923.0  "
      ]
     },
     "execution_count": 10,
     "metadata": {},
     "output_type": "execute_result"
    }
   ],
   "source": [
    "econ_df.head()"
   ]
  },
  {
   "cell_type": "code",
   "execution_count": 11,
   "metadata": {},
   "outputs": [
    {
     "name": "stdout",
     "output_type": "stream",
     "text": [
      "<class 'pandas.core.frame.DataFrame'>\n",
      "RangeIndex: 2738 entries, 0 to 2737\n",
      "Data columns (total 10 columns):\n",
      " #   Column           Non-Null Count  Dtype  \n",
      "---  ------           --------------  -----  \n",
      " 0   Date             2738 non-null   object \n",
      " 1   Interest_Rate    2738 non-null   float64\n",
      " 2   GDP              2738 non-null   float64\n",
      " 3   CPI              2738 non-null   float64\n",
      " 4   HPI              2738 non-null   float64\n",
      " 5   Trade Balance    2738 non-null   float64\n",
      " 6   Unemployment     2738 non-null   float64\n",
      " 7   Wholesale Trade  2738 non-null   float64\n",
      " 8   US_GDP           2738 non-null   float64\n",
      " 9   Housing starts   2738 non-null   float64\n",
      "dtypes: float64(9), object(1)\n",
      "memory usage: 214.0+ KB\n"
     ]
    }
   ],
   "source": [
    "econ_df.info()"
   ]
  },
  {
   "cell_type": "code",
   "execution_count": 12,
   "metadata": {},
   "outputs": [
    {
     "data": {
      "text/html": [
       "<div>\n",
       "<style scoped>\n",
       "    .dataframe tbody tr th:only-of-type {\n",
       "        vertical-align: middle;\n",
       "    }\n",
       "\n",
       "    .dataframe tbody tr th {\n",
       "        vertical-align: top;\n",
       "    }\n",
       "\n",
       "    .dataframe thead th {\n",
       "        text-align: right;\n",
       "    }\n",
       "</style>\n",
       "<table border=\"1\" class=\"dataframe\">\n",
       "  <thead>\n",
       "    <tr style=\"text-align: right;\">\n",
       "      <th></th>\n",
       "      <th>Date</th>\n",
       "      <th>DAX</th>\n",
       "      <th>STOXX 50</th>\n",
       "      <th>FTSE 100</th>\n",
       "      <th>NASDAQ</th>\n",
       "      <th>Nikkei 225</th>\n",
       "      <th>Russell 2000</th>\n",
       "      <th>S&amp;P 500</th>\n",
       "      <th>TSX</th>\n",
       "    </tr>\n",
       "  </thead>\n",
       "  <tbody>\n",
       "    <tr>\n",
       "      <th>0</th>\n",
       "      <td>2014-01-02</td>\n",
       "      <td>9400.04</td>\n",
       "      <td>3059.93</td>\n",
       "      <td>6717.91</td>\n",
       "      <td>4143.07</td>\n",
       "      <td>15908.88</td>\n",
       "      <td>1150.72</td>\n",
       "      <td>1831.98</td>\n",
       "      <td>13594.19</td>\n",
       "    </tr>\n",
       "    <tr>\n",
       "      <th>1</th>\n",
       "      <td>2014-01-03</td>\n",
       "      <td>9435.15</td>\n",
       "      <td>3074.43</td>\n",
       "      <td>6730.67</td>\n",
       "      <td>4131.91</td>\n",
       "      <td>15908.88</td>\n",
       "      <td>1156.09</td>\n",
       "      <td>1831.37</td>\n",
       "      <td>13548.86</td>\n",
       "    </tr>\n",
       "    <tr>\n",
       "      <th>2</th>\n",
       "      <td>2014-01-06</td>\n",
       "      <td>9428.00</td>\n",
       "      <td>3069.16</td>\n",
       "      <td>6730.73</td>\n",
       "      <td>4113.68</td>\n",
       "      <td>15908.88</td>\n",
       "      <td>1147.16</td>\n",
       "      <td>1826.77</td>\n",
       "      <td>13495.54</td>\n",
       "    </tr>\n",
       "    <tr>\n",
       "      <th>3</th>\n",
       "      <td>2014-01-07</td>\n",
       "      <td>9506.20</td>\n",
       "      <td>3110.96</td>\n",
       "      <td>6755.45</td>\n",
       "      <td>4153.18</td>\n",
       "      <td>15814.37</td>\n",
       "      <td>1157.63</td>\n",
       "      <td>1837.88</td>\n",
       "      <td>13596.93</td>\n",
       "    </tr>\n",
       "    <tr>\n",
       "      <th>4</th>\n",
       "      <td>2014-01-08</td>\n",
       "      <td>9497.84</td>\n",
       "      <td>3110.66</td>\n",
       "      <td>6721.78</td>\n",
       "      <td>4165.61</td>\n",
       "      <td>16121.45</td>\n",
       "      <td>1157.46</td>\n",
       "      <td>1837.49</td>\n",
       "      <td>13614.63</td>\n",
       "    </tr>\n",
       "  </tbody>\n",
       "</table>\n",
       "</div>"
      ],
      "text/plain": [
       "         Date      DAX  STOXX 50  FTSE 100   NASDAQ  Nikkei 225  Russell 2000  \\\n",
       "0  2014-01-02  9400.04   3059.93   6717.91  4143.07    15908.88       1150.72   \n",
       "1  2014-01-03  9435.15   3074.43   6730.67  4131.91    15908.88       1156.09   \n",
       "2  2014-01-06  9428.00   3069.16   6730.73  4113.68    15908.88       1147.16   \n",
       "3  2014-01-07  9506.20   3110.96   6755.45  4153.18    15814.37       1157.63   \n",
       "4  2014-01-08  9497.84   3110.66   6721.78  4165.61    16121.45       1157.46   \n",
       "\n",
       "   S&P 500       TSX  \n",
       "0  1831.98  13594.19  \n",
       "1  1831.37  13548.86  \n",
       "2  1826.77  13495.54  \n",
       "3  1837.88  13596.93  \n",
       "4  1837.49  13614.63  "
      ]
     },
     "execution_count": 12,
     "metadata": {},
     "output_type": "execute_result"
    }
   ],
   "source": [
    "index_df.head()"
   ]
  },
  {
   "cell_type": "code",
   "execution_count": 13,
   "metadata": {},
   "outputs": [
    {
     "name": "stdout",
     "output_type": "stream",
     "text": [
      "<class 'pandas.core.frame.DataFrame'>\n",
      "RangeIndex: 2667 entries, 0 to 2666\n",
      "Data columns (total 9 columns):\n",
      " #   Column        Non-Null Count  Dtype  \n",
      "---  ------        --------------  -----  \n",
      " 0   Date          2667 non-null   object \n",
      " 1   DAX           2667 non-null   float64\n",
      " 2   STOXX 50      2667 non-null   float64\n",
      " 3   FTSE 100      2667 non-null   float64\n",
      " 4   NASDAQ        2667 non-null   float64\n",
      " 5   Nikkei 225    2667 non-null   float64\n",
      " 6   Russell 2000  2667 non-null   float64\n",
      " 7   S&P 500       2667 non-null   float64\n",
      " 8   TSX           2667 non-null   float64\n",
      "dtypes: float64(8), object(1)\n",
      "memory usage: 187.6+ KB\n"
     ]
    }
   ],
   "source": [
    "index_df.info()"
   ]
  },
  {
   "cell_type": "code",
   "execution_count": 14,
   "metadata": {},
   "outputs": [
    {
     "data": {
      "text/html": [
       "<div>\n",
       "<style scoped>\n",
       "    .dataframe tbody tr th:only-of-type {\n",
       "        vertical-align: middle;\n",
       "    }\n",
       "\n",
       "    .dataframe tbody tr th {\n",
       "        vertical-align: top;\n",
       "    }\n",
       "\n",
       "    .dataframe thead th {\n",
       "        text-align: right;\n",
       "    }\n",
       "</style>\n",
       "<table border=\"1\" class=\"dataframe\">\n",
       "  <thead>\n",
       "    <tr style=\"text-align: right;\">\n",
       "      <th></th>\n",
       "      <th>Date</th>\n",
       "      <th>CADJPY</th>\n",
       "      <th>EURCAD</th>\n",
       "      <th>GBPCAD</th>\n",
       "      <th>USDCAD</th>\n",
       "    </tr>\n",
       "  </thead>\n",
       "  <tbody>\n",
       "    <tr>\n",
       "      <th>0</th>\n",
       "      <td>2014-01-01</td>\n",
       "      <td>98.88</td>\n",
       "      <td>1.4640</td>\n",
       "      <td>1.7634</td>\n",
       "      <td>1.0644</td>\n",
       "    </tr>\n",
       "    <tr>\n",
       "      <th>1</th>\n",
       "      <td>2014-01-02</td>\n",
       "      <td>98.18</td>\n",
       "      <td>1.4589</td>\n",
       "      <td>1.7558</td>\n",
       "      <td>1.0671</td>\n",
       "    </tr>\n",
       "    <tr>\n",
       "      <th>2</th>\n",
       "      <td>2014-01-03</td>\n",
       "      <td>98.59</td>\n",
       "      <td>1.4452</td>\n",
       "      <td>1.7460</td>\n",
       "      <td>1.0635</td>\n",
       "    </tr>\n",
       "    <tr>\n",
       "      <th>3</th>\n",
       "      <td>2014-01-06</td>\n",
       "      <td>97.81</td>\n",
       "      <td>1.4522</td>\n",
       "      <td>1.7481</td>\n",
       "      <td>1.0655</td>\n",
       "    </tr>\n",
       "    <tr>\n",
       "      <th>4</th>\n",
       "      <td>2014-01-07</td>\n",
       "      <td>97.18</td>\n",
       "      <td>1.4658</td>\n",
       "      <td>1.7658</td>\n",
       "      <td>1.0766</td>\n",
       "    </tr>\n",
       "  </tbody>\n",
       "</table>\n",
       "</div>"
      ],
      "text/plain": [
       "         Date  CADJPY  EURCAD  GBPCAD  USDCAD\n",
       "0  2014-01-01   98.88  1.4640  1.7634  1.0644\n",
       "1  2014-01-02   98.18  1.4589  1.7558  1.0671\n",
       "2  2014-01-03   98.59  1.4452  1.7460  1.0635\n",
       "3  2014-01-06   97.81  1.4522  1.7481  1.0655\n",
       "4  2014-01-07   97.18  1.4658  1.7658  1.0766"
      ]
     },
     "execution_count": 14,
     "metadata": {},
     "output_type": "execute_result"
    }
   ],
   "source": [
    "currency_df.head()"
   ]
  },
  {
   "cell_type": "code",
   "execution_count": 15,
   "metadata": {},
   "outputs": [
    {
     "name": "stdout",
     "output_type": "stream",
     "text": [
      "<class 'pandas.core.frame.DataFrame'>\n",
      "RangeIndex: 2649 entries, 0 to 2648\n",
      "Data columns (total 5 columns):\n",
      " #   Column  Non-Null Count  Dtype  \n",
      "---  ------  --------------  -----  \n",
      " 0   Date    2649 non-null   object \n",
      " 1   CADJPY  2649 non-null   float64\n",
      " 2   EURCAD  2649 non-null   float64\n",
      " 3   GBPCAD  2649 non-null   float64\n",
      " 4   USDCAD  2649 non-null   float64\n",
      "dtypes: float64(4), object(1)\n",
      "memory usage: 103.6+ KB\n"
     ]
    }
   ],
   "source": [
    "currency_df.info()"
   ]
  },
  {
   "cell_type": "code",
   "execution_count": 16,
   "metadata": {},
   "outputs": [],
   "source": [
    "df = commodity_df.merge(econ_df, on='Date', how='outer')\\\n",
    "                    .merge(index_df, on='Date', how='outer')\\\n",
    "                    .merge(currency_df, on='Date', how='outer')\\\n",
    "                    .merge(bond_df, on='Date', how='outer')\n",
    "                    "
   ]
  },
  {
   "cell_type": "code",
   "execution_count": 17,
   "metadata": {},
   "outputs": [],
   "source": [
    "df = df.drop(index=0)"
   ]
  },
  {
   "cell_type": "code",
   "execution_count": 18,
   "metadata": {},
   "outputs": [],
   "source": [
    "df['Date'] = pd.to_datetime(df['Date'])"
   ]
  },
  {
   "cell_type": "code",
   "execution_count": 20,
   "metadata": {},
   "outputs": [],
   "source": [
    "df = df.ffill()"
   ]
  },
  {
   "cell_type": "code",
   "execution_count": 21,
   "metadata": {},
   "outputs": [
    {
     "data": {
      "text/html": [
       "<div>\n",
       "<style scoped>\n",
       "    .dataframe tbody tr th:only-of-type {\n",
       "        vertical-align: middle;\n",
       "    }\n",
       "\n",
       "    .dataframe tbody tr th {\n",
       "        vertical-align: top;\n",
       "    }\n",
       "\n",
       "    .dataframe thead th {\n",
       "        text-align: right;\n",
       "    }\n",
       "</style>\n",
       "<table border=\"1\" class=\"dataframe\">\n",
       "  <thead>\n",
       "    <tr style=\"text-align: right;\">\n",
       "      <th></th>\n",
       "      <th>Date</th>\n",
       "      <th>WTI Price</th>\n",
       "      <th>Natural Gas Price</th>\n",
       "      <th>Aluminum Price</th>\n",
       "      <th>Copper Price</th>\n",
       "      <th>Gold Price</th>\n",
       "      <th>Platinum Price</th>\n",
       "      <th>Silver Price</th>\n",
       "      <th>Lumber Price</th>\n",
       "      <th>Interest_Rate</th>\n",
       "      <th>...</th>\n",
       "      <th>NASDAQ</th>\n",
       "      <th>Nikkei 225</th>\n",
       "      <th>Russell 2000</th>\n",
       "      <th>S&amp;P 500</th>\n",
       "      <th>TSX</th>\n",
       "      <th>CADJPY</th>\n",
       "      <th>EURCAD</th>\n",
       "      <th>GBPCAD</th>\n",
       "      <th>USDCAD</th>\n",
       "      <th>10 YR Bond Yield</th>\n",
       "    </tr>\n",
       "  </thead>\n",
       "  <tbody>\n",
       "    <tr>\n",
       "      <th>1</th>\n",
       "      <td>2014-01-01</td>\n",
       "      <td>98.70</td>\n",
       "      <td>4.232</td>\n",
       "      <td>1840.25</td>\n",
       "      <td>3.3815</td>\n",
       "      <td>1225.2</td>\n",
       "      <td>1377.05</td>\n",
       "      <td>20.128</td>\n",
       "      <td>353.3</td>\n",
       "      <td>1.0</td>\n",
       "      <td>...</td>\n",
       "      <td>NaN</td>\n",
       "      <td>NaN</td>\n",
       "      <td>NaN</td>\n",
       "      <td>NaN</td>\n",
       "      <td>NaN</td>\n",
       "      <td>98.88</td>\n",
       "      <td>1.4640</td>\n",
       "      <td>1.7634</td>\n",
       "      <td>1.0644</td>\n",
       "      <td>NaN</td>\n",
       "    </tr>\n",
       "    <tr>\n",
       "      <th>2</th>\n",
       "      <td>2014-01-02</td>\n",
       "      <td>95.44</td>\n",
       "      <td>4.321</td>\n",
       "      <td>1840.25</td>\n",
       "      <td>3.3815</td>\n",
       "      <td>1225.2</td>\n",
       "      <td>1402.30</td>\n",
       "      <td>20.128</td>\n",
       "      <td>353.3</td>\n",
       "      <td>1.0</td>\n",
       "      <td>...</td>\n",
       "      <td>4143.07</td>\n",
       "      <td>15908.88</td>\n",
       "      <td>1150.72</td>\n",
       "      <td>1831.98</td>\n",
       "      <td>13594.19</td>\n",
       "      <td>98.18</td>\n",
       "      <td>1.4589</td>\n",
       "      <td>1.7558</td>\n",
       "      <td>1.0671</td>\n",
       "      <td>2.74</td>\n",
       "    </tr>\n",
       "    <tr>\n",
       "      <th>3</th>\n",
       "      <td>2014-01-03</td>\n",
       "      <td>93.96</td>\n",
       "      <td>4.304</td>\n",
       "      <td>1840.25</td>\n",
       "      <td>3.3550</td>\n",
       "      <td>1238.6</td>\n",
       "      <td>1412.45</td>\n",
       "      <td>20.211</td>\n",
       "      <td>356.8</td>\n",
       "      <td>1.0</td>\n",
       "      <td>...</td>\n",
       "      <td>4131.91</td>\n",
       "      <td>15908.88</td>\n",
       "      <td>1156.09</td>\n",
       "      <td>1831.37</td>\n",
       "      <td>13548.86</td>\n",
       "      <td>98.59</td>\n",
       "      <td>1.4452</td>\n",
       "      <td>1.7460</td>\n",
       "      <td>1.0635</td>\n",
       "      <td>2.75</td>\n",
       "    </tr>\n",
       "    <tr>\n",
       "      <th>4</th>\n",
       "      <td>2014-01-04</td>\n",
       "      <td>93.96</td>\n",
       "      <td>4.304</td>\n",
       "      <td>1840.25</td>\n",
       "      <td>3.3550</td>\n",
       "      <td>1238.6</td>\n",
       "      <td>1412.45</td>\n",
       "      <td>20.211</td>\n",
       "      <td>356.8</td>\n",
       "      <td>1.0</td>\n",
       "      <td>...</td>\n",
       "      <td>4131.91</td>\n",
       "      <td>15908.88</td>\n",
       "      <td>1156.09</td>\n",
       "      <td>1831.37</td>\n",
       "      <td>13548.86</td>\n",
       "      <td>98.59</td>\n",
       "      <td>1.4452</td>\n",
       "      <td>1.7460</td>\n",
       "      <td>1.0635</td>\n",
       "      <td>2.75</td>\n",
       "    </tr>\n",
       "    <tr>\n",
       "      <th>5</th>\n",
       "      <td>2014-01-05</td>\n",
       "      <td>93.96</td>\n",
       "      <td>4.304</td>\n",
       "      <td>1840.25</td>\n",
       "      <td>3.3550</td>\n",
       "      <td>1238.6</td>\n",
       "      <td>1407.30</td>\n",
       "      <td>20.211</td>\n",
       "      <td>356.8</td>\n",
       "      <td>1.0</td>\n",
       "      <td>...</td>\n",
       "      <td>4131.91</td>\n",
       "      <td>15908.88</td>\n",
       "      <td>1156.09</td>\n",
       "      <td>1831.37</td>\n",
       "      <td>13548.86</td>\n",
       "      <td>98.59</td>\n",
       "      <td>1.4452</td>\n",
       "      <td>1.7460</td>\n",
       "      <td>1.0635</td>\n",
       "      <td>2.75</td>\n",
       "    </tr>\n",
       "  </tbody>\n",
       "</table>\n",
       "<p>5 rows × 31 columns</p>\n",
       "</div>"
      ],
      "text/plain": [
       "        Date  WTI Price  Natural Gas Price  Aluminum Price  Copper Price  \\\n",
       "1 2014-01-01      98.70              4.232         1840.25        3.3815   \n",
       "2 2014-01-02      95.44              4.321         1840.25        3.3815   \n",
       "3 2014-01-03      93.96              4.304         1840.25        3.3550   \n",
       "4 2014-01-04      93.96              4.304         1840.25        3.3550   \n",
       "5 2014-01-05      93.96              4.304         1840.25        3.3550   \n",
       "\n",
       "   Gold Price  Platinum Price  Silver Price  Lumber Price  Interest_Rate  ...  \\\n",
       "1      1225.2         1377.05        20.128         353.3            1.0  ...   \n",
       "2      1225.2         1402.30        20.128         353.3            1.0  ...   \n",
       "3      1238.6         1412.45        20.211         356.8            1.0  ...   \n",
       "4      1238.6         1412.45        20.211         356.8            1.0  ...   \n",
       "5      1238.6         1407.30        20.211         356.8            1.0  ...   \n",
       "\n",
       "    NASDAQ  Nikkei 225  Russell 2000  S&P 500       TSX  CADJPY  EURCAD  \\\n",
       "1      NaN         NaN           NaN      NaN       NaN   98.88  1.4640   \n",
       "2  4143.07    15908.88       1150.72  1831.98  13594.19   98.18  1.4589   \n",
       "3  4131.91    15908.88       1156.09  1831.37  13548.86   98.59  1.4452   \n",
       "4  4131.91    15908.88       1156.09  1831.37  13548.86   98.59  1.4452   \n",
       "5  4131.91    15908.88       1156.09  1831.37  13548.86   98.59  1.4452   \n",
       "\n",
       "   GBPCAD  USDCAD  10 YR Bond Yield  \n",
       "1  1.7634  1.0644               NaN  \n",
       "2  1.7558  1.0671              2.74  \n",
       "3  1.7460  1.0635              2.75  \n",
       "4  1.7460  1.0635              2.75  \n",
       "5  1.7460  1.0635              2.75  \n",
       "\n",
       "[5 rows x 31 columns]"
      ]
     },
     "execution_count": 21,
     "metadata": {},
     "output_type": "execute_result"
    }
   ],
   "source": [
    "df.head(5)"
   ]
  },
  {
   "cell_type": "code",
   "execution_count": 22,
   "metadata": {},
   "outputs": [
    {
     "name": "stdout",
     "output_type": "stream",
     "text": [
      "<class 'pandas.core.frame.DataFrame'>\n",
      "RangeIndex: 3263 entries, 1 to 3263\n",
      "Data columns (total 31 columns):\n",
      " #   Column             Non-Null Count  Dtype         \n",
      "---  ------             --------------  -----         \n",
      " 0   Date               3263 non-null   datetime64[ns]\n",
      " 1   WTI Price          3263 non-null   float64       \n",
      " 2   Natural Gas Price  3263 non-null   float64       \n",
      " 3   Aluminum Price     3263 non-null   float64       \n",
      " 4   Copper Price       3263 non-null   float64       \n",
      " 5   Gold Price         3263 non-null   float64       \n",
      " 6   Platinum Price     3263 non-null   float64       \n",
      " 7   Silver Price       3263 non-null   float64       \n",
      " 8   Lumber Price       3263 non-null   float64       \n",
      " 9   Interest_Rate      3263 non-null   float64       \n",
      " 10  GDP                3263 non-null   float64       \n",
      " 11  CPI                3263 non-null   float64       \n",
      " 12  HPI                3263 non-null   float64       \n",
      " 13  Trade Balance      3263 non-null   float64       \n",
      " 14  Unemployment       3263 non-null   float64       \n",
      " 15  Wholesale Trade    3263 non-null   float64       \n",
      " 16  US_GDP             3263 non-null   float64       \n",
      " 17  Housing starts     3263 non-null   float64       \n",
      " 18  DAX                3262 non-null   float64       \n",
      " 19  STOXX 50           3262 non-null   float64       \n",
      " 20  FTSE 100           3262 non-null   float64       \n",
      " 21  NASDAQ             3262 non-null   float64       \n",
      " 22  Nikkei 225         3262 non-null   float64       \n",
      " 23  Russell 2000       3262 non-null   float64       \n",
      " 24  S&P 500            3262 non-null   float64       \n",
      " 25  TSX                3262 non-null   float64       \n",
      " 26  CADJPY             3263 non-null   float64       \n",
      " 27  EURCAD             3263 non-null   float64       \n",
      " 28  GBPCAD             3263 non-null   float64       \n",
      " 29  USDCAD             3263 non-null   float64       \n",
      " 30  10 YR Bond Yield   3262 non-null   float64       \n",
      "dtypes: datetime64[ns](1), float64(30)\n",
      "memory usage: 790.4 KB\n"
     ]
    }
   ],
   "source": [
    "df.info()"
   ]
  },
  {
   "cell_type": "code",
   "execution_count": 23,
   "metadata": {},
   "outputs": [],
   "source": [
    "df = df.bfill()"
   ]
  },
  {
   "cell_type": "code",
   "execution_count": 25,
   "metadata": {},
   "outputs": [],
   "source": [
    "new_df = df[df['Date'] < '2024-02-24']"
   ]
  },
  {
   "cell_type": "code",
   "execution_count": 26,
   "metadata": {},
   "outputs": [
    {
     "name": "stdout",
     "output_type": "stream",
     "text": [
      "<class 'pandas.core.frame.DataFrame'>\n",
      "RangeIndex: 3263 entries, 1 to 3263\n",
      "Data columns (total 31 columns):\n",
      " #   Column             Non-Null Count  Dtype         \n",
      "---  ------             --------------  -----         \n",
      " 0   Date               3263 non-null   datetime64[ns]\n",
      " 1   WTI Price          3263 non-null   float64       \n",
      " 2   Natural Gas Price  3263 non-null   float64       \n",
      " 3   Aluminum Price     3263 non-null   float64       \n",
      " 4   Copper Price       3263 non-null   float64       \n",
      " 5   Gold Price         3263 non-null   float64       \n",
      " 6   Platinum Price     3263 non-null   float64       \n",
      " 7   Silver Price       3263 non-null   float64       \n",
      " 8   Lumber Price       3263 non-null   float64       \n",
      " 9   Interest_Rate      3263 non-null   float64       \n",
      " 10  GDP                3263 non-null   float64       \n",
      " 11  CPI                3263 non-null   float64       \n",
      " 12  HPI                3263 non-null   float64       \n",
      " 13  Trade Balance      3263 non-null   float64       \n",
      " 14  Unemployment       3263 non-null   float64       \n",
      " 15  Wholesale Trade    3263 non-null   float64       \n",
      " 16  US_GDP             3263 non-null   float64       \n",
      " 17  Housing starts     3263 non-null   float64       \n",
      " 18  DAX                3263 non-null   float64       \n",
      " 19  STOXX 50           3263 non-null   float64       \n",
      " 20  FTSE 100           3263 non-null   float64       \n",
      " 21  NASDAQ             3263 non-null   float64       \n",
      " 22  Nikkei 225         3263 non-null   float64       \n",
      " 23  Russell 2000       3263 non-null   float64       \n",
      " 24  S&P 500            3263 non-null   float64       \n",
      " 25  TSX                3263 non-null   float64       \n",
      " 26  CADJPY             3263 non-null   float64       \n",
      " 27  EURCAD             3263 non-null   float64       \n",
      " 28  GBPCAD             3263 non-null   float64       \n",
      " 29  USDCAD             3263 non-null   float64       \n",
      " 30  10 YR Bond Yield   3263 non-null   float64       \n",
      "dtypes: datetime64[ns](1), float64(30)\n",
      "memory usage: 790.4 KB\n"
     ]
    }
   ],
   "source": [
    "df.info()"
   ]
  },
  {
   "cell_type": "code",
   "execution_count": 27,
   "metadata": {},
   "outputs": [],
   "source": [
    "new_df.to_csv('../data/preprocessed/macro_finance_data_2014_2023.csv', index=False)"
   ]
  }
 ],
 "metadata": {
  "kernelspec": {
   "display_name": "LHL",
   "language": "python",
   "name": "python3"
  },
  "language_info": {
   "codemirror_mode": {
    "name": "ipython",
    "version": 3
   },
   "file_extension": ".py",
   "mimetype": "text/x-python",
   "name": "python",
   "nbconvert_exporter": "python",
   "pygments_lexer": "ipython3",
   "version": "3.10.14"
  }
 },
 "nbformat": 4,
 "nbformat_minor": 2
}
